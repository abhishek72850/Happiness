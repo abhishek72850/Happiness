{
 "cells": [
  {
   "cell_type": "code",
   "execution_count": 51,
   "metadata": {},
   "outputs": [],
   "source": [
    "from imageai.Detection import ObjectDetection\n",
    "import os\n",
    "from imageai.Detection.Custom import DetectionModelTrainer\n",
    "import xml.etree.ElementTree as ET \n",
    "from imageai.Detection.Custom import CustomObjectDetection\n",
    "import pandas as pd\n",
    "import pytesseract\n",
    "import cv2 as cv\n",
    "from PIL import Image\n",
    "import smtplib \n",
    "import re"
   ]
  },
  {
   "cell_type": "markdown",
   "metadata": {},
   "source": [
    "# Misc Functions"
   ]
  },
  {
   "cell_type": "code",
   "execution_count": 52,
   "metadata": {},
   "outputs": [],
   "source": [
    "def sendMail(msg):\n",
    "    sender=\"alexkay72850@gmail.com\"\n",
    "    sender_pwd=\"alexkay728\"\n",
    "    reciever=\"abhishekk728@yahoo.com\"\n",
    "    \n",
    "    s = smtplib.SMTP('smtp.gmail.com', 587) \n",
    "    s.starttls()\n",
    "    s.login(sender, sender_pwd)\n",
    "\n",
    "    # smtp.mail.yahoo.com\n",
    "    # smtp.gmail.com\n",
    "    \n",
    "    message = 'Subject: Item Alert\\n\\n{}'.format(msg)\n",
    "    \n",
    "    s.sendmail(sender, reciever, message) \n",
    "    s.quit()\n",
    "    \n",
    "def extractImage(name,points):\n",
    "    image = cv.imread(name)\n",
    "    clone = image.copy()\n",
    "    crop_img=clone[points[1]:points[3],points[0]:points[2]]\n",
    "    \n",
    "    return crop_img\n",
    "\n",
    "def extractText(image):\n",
    "    \n",
    "    gray = cv.cvtColor(image, cv.COLOR_BGR2GRAY)\n",
    "\n",
    "    gray = cv.threshold(gray, 0, 255,cv.THRESH_BINARY | cv.THRESH_OTSU)[1]\n",
    "    \n",
    "    #gray=invert(gray)\n",
    "\n",
    "    #gray = cv.medianBlur(gray, 3)\n",
    "    \n",
    "    #cv.imwrite('ocr.png', gray)\n",
    "    \n",
    "    text = pytesseract.image_to_string(gray,lang='eng')\n",
    "    return text,gray\n",
    "\n",
    "def extractObjectText(top_n,name_lst,filename,extract):\n",
    "    points=top_n[name_lst.index(extract)]['box_points']\n",
    "    cropped_image = extractImage(filename,points)\n",
    "    label_text,gray = extractText(cropped_image)\n",
    "    \n",
    "    cv.imshow(extract,gray)\n",
    "    \n",
    "    \n",
    "    return label_text"
   ]
  },
  {
   "cell_type": "markdown",
   "metadata": {},
   "source": [
    "# Resizing Images"
   ]
  },
  {
   "cell_type": "code",
   "execution_count": null,
   "metadata": {},
   "outputs": [],
   "source": [
    "for root, dirs, files in os.walk(\"images\"):\n",
    "    for i,f in enumerate(files):\n",
    "        img = cv.imread(os.path.join(root,f))\n",
    "\n",
    "        #print('Original Dimensions : ',img.shape)\n",
    "\n",
    "        scale_percent = 20 # percent of original size\n",
    "        width = int(img.shape[1] * scale_percent / 100)\n",
    "        height = int(img.shape[0] * scale_percent / 100)\n",
    "        dim = (width, height)\n",
    "        # resize image\n",
    "        resized = cv2.resize(img, dim, interpolation = cv2.INTER_AREA)\n",
    "\n",
    "        #print('Resized Dimensions : ',resized.shape)\n",
    "        cv.imwrite('train/'+str(i)+'.jpg', resized, [int(cv.IMWRITE_JPEG_QUALITY), 80])\n",
    "        print(i)"
   ]
  },
  {
   "cell_type": "markdown",
   "metadata": {},
   "source": [
    "# Generating Classes to Predict "
   ]
  },
  {
   "cell_type": "code",
   "execution_count": 38,
   "metadata": {
    "scrolled": true
   },
   "outputs": [],
   "source": [
    "classes = set()\n",
    "for root, dirs, files in os.walk(\"dataset/train\"):\n",
    "    for f in files:\n",
    "        part=f.split('.')\n",
    "        if(part[1]=='xml'):\n",
    "            tree=ET.parse(os.path.join(root,f))\n",
    "            xml_root = tree.getroot()\n",
    "            for item in xml_root.findall('./object/name'):\n",
    "                classes.add(item.text)"
   ]
  },
  {
   "cell_type": "markdown",
   "metadata": {},
   "source": [
    "# Model Training"
   ]
  },
  {
   "cell_type": "code",
   "execution_count": null,
   "metadata": {},
   "outputs": [],
   "source": [
    "trainer = DetectionModelTrainer()\n",
    "trainer.setModelTypeAsYOLOv3()\n",
    "trainer.setDataDirectory(data_directory=\"dataset\")\n",
    "trainer.setTrainConfig(object_names_array=classes, batch_size=4, num_experiments=10,train_from_pretrained_model=\"yolov3_model.h5\")\n",
    "trainer.trainModel()"
   ]
  },
  {
   "cell_type": "markdown",
   "metadata": {},
   "source": [
    "# To Test the Model Start from here"
   ]
  },
  {
   "cell_type": "markdown",
   "metadata": {},
   "source": [
    "## Note: First Execute the Libraries Block and Misc Function Block before executing below blocks "
   ]
  },
  {
   "cell_type": "markdown",
   "metadata": {},
   "source": [
    "# Loading Trained Model for Object Detection"
   ]
  },
  {
   "cell_type": "code",
   "execution_count": 3,
   "metadata": {
    "scrolled": true
   },
   "outputs": [
    {
     "name": "stdout",
     "output_type": "stream",
     "text": [
      "WARNING:tensorflow:From C:\\Users\\alexk\\Anaconda3\\lib\\site-packages\\tensorflow\\python\\ops\\resource_variable_ops.py:435: colocate_with (from tensorflow.python.framework.ops) is deprecated and will be removed in a future version.\n",
      "Instructions for updating:\n",
      "Colocations handled automatically by placer.\n"
     ]
    }
   ],
   "source": [
    "detector = CustomObjectDetection()\n",
    "detector.setModelTypeAsYOLOv3()\n",
    "detector.setModelPath(\"dataset/models/detection_model-ex-010--loss-0012.245.h5\") \n",
    "detector.setJsonPath(\"dataset/json/detection_config.json\")\n",
    "detector.loadModel()"
   ]
  },
  {
   "cell_type": "markdown",
   "metadata": {},
   "source": [
    "# Provide Filename to Detect Objects"
   ]
  },
  {
   "cell_type": "code",
   "execution_count": 4,
   "metadata": {
    "scrolled": true
   },
   "outputs": [],
   "source": [
    "filename = \"26.jpg\" #filename of image\n",
    "\n",
    "detections,ext = detector.detectObjectsFromImage(input_image=filename, output_image_path=\"detected.jpg\",extract_detected_objects=True)"
   ]
  },
  {
   "cell_type": "markdown",
   "metadata": {},
   "source": [
    "# Sorting Detected Objects With Higher Probability"
   ]
  },
  {
   "cell_type": "code",
   "execution_count": 5,
   "metadata": {
    "scrolled": true
   },
   "outputs": [
    {
     "data": {
      "text/plain": [
       "[{'name': 'Time',\n",
       "  'percentage_probability': 99.56734776496887,\n",
       "  'box_points': [123, 0, 595, 47]},\n",
       " {'name': 'Label',\n",
       "  'percentage_probability': 99.48127865791321,\n",
       "  'box_points': [166, 518, 414, 689]},\n",
       " {'name': 'Location',\n",
       "  'percentage_probability': 98.84781241416931,\n",
       "  'box_points': [332, 64, 612, 207]},\n",
       " {'name': 'Chune Fried rice',\n",
       "  'percentage_probability': 98.40279817581177,\n",
       "  'box_points': [38, 104, 563, 441]},\n",
       " {'name': 'Label',\n",
       "  'percentage_probability': 97.08787798881531,\n",
       "  'box_points': [332, 64, 612, 207]},\n",
       " {'name': 'Pork Skin',\n",
       "  'percentage_probability': 96.31786942481995,\n",
       "  'box_points': [38, 104, 563, 441]},\n",
       " {'name': 'Label',\n",
       "  'percentage_probability': 93.37312579154968,\n",
       "  'box_points': [38, 104, 563, 441]},\n",
       " {'name': 'Golden Saba',\n",
       "  'percentage_probability': 89.7739827632904,\n",
       "  'box_points': [166, 518, 414, 689]},\n",
       " {'name': 'Location',\n",
       "  'percentage_probability': 84.96984839439392,\n",
       "  'box_points': [166, 518, 414, 689]},\n",
       " {'name': 'Angel Soft',\n",
       "  'percentage_probability': 83.93321633338928,\n",
       "  'box_points': [166, 518, 414, 689]},\n",
       " {'name': 'Label',\n",
       "  'percentage_probability': 82.25672245025635,\n",
       "  'box_points': [123, 0, 595, 47]},\n",
       " {'name': 'Void',\n",
       "  'percentage_probability': 81.69487118721008,\n",
       "  'box_points': [72, 7, 533, 469]},\n",
       " {'name': 'Chune Fried rice',\n",
       "  'percentage_probability': 81.6702127456665,\n",
       "  'box_points': [172, 521, 442, 684]},\n",
       " {'name': 'Twin Dragon Wrapper',\n",
       "  'percentage_probability': 79.63175177574158,\n",
       "  'box_points': [336, 59, 578, 214]},\n",
       " {'name': 'Dog spray',\n",
       "  'percentage_probability': 78.5274863243103,\n",
       "  'box_points': [172, 521, 442, 684]},\n",
       " {'name': 'Void',\n",
       "  'percentage_probability': 77.11401581764221,\n",
       "  'box_points': [336, 59, 578, 214]},\n",
       " {'name': 'W King Mix Champorado',\n",
       "  'percentage_probability': 76.841139793396,\n",
       "  'box_points': [336, 59, 578, 214]},\n",
       " {'name': 'Pet Food',\n",
       "  'percentage_probability': 76.10231637954712,\n",
       "  'box_points': [172, 521, 442, 684]},\n",
       " {'name': 'Void',\n",
       "  'percentage_probability': 75.9542465209961,\n",
       "  'box_points': [123, 0, 595, 47]},\n",
       " {'name': 'Yellow Fin Tuna',\n",
       "  'percentage_probability': 74.58251118659973,\n",
       "  'box_points': [172, 521, 442, 684]},\n",
       " {'name': 'Pork',\n",
       "  'percentage_probability': 73.25578927993774,\n",
       "  'box_points': [18, 0, 639, 568]},\n",
       " {'name': 'Gg Cheese',\n",
       "  'percentage_probability': 72.98049926757812,\n",
       "  'box_points': [38, 104, 563, 441]},\n",
       " {'name': 'Organic Chestnut',\n",
       "  'percentage_probability': 72.82223701477051,\n",
       "  'box_points': [18, 0, 639, 568]},\n",
       " {'name': 'Twin Dragon Wrapper',\n",
       "  'percentage_probability': 70.59375643730164,\n",
       "  'box_points': [166, 518, 414, 689]},\n",
       " {'name': 'Golden Saba',\n",
       "  'percentage_probability': 69.60721015930176,\n",
       "  'box_points': [336, 59, 578, 214]},\n",
       " {'name': 'Coors Light',\n",
       "  'percentage_probability': 69.28947567939758,\n",
       "  'box_points': [332, 64, 612, 207]},\n",
       " {'name': 'Pork',\n",
       "  'percentage_probability': 68.86554956436157,\n",
       "  'box_points': [332, 64, 612, 207]},\n",
       " {'name': 'Dannon',\n",
       "  'percentage_probability': 67.28156208992004,\n",
       "  'box_points': [172, 521, 442, 684]},\n",
       " {'name': 'Dog spray',\n",
       "  'percentage_probability': 67.0954167842865,\n",
       "  'box_points': [332, 64, 612, 207]},\n",
       " {'name': 'Pork',\n",
       "  'percentage_probability': 66.15164279937744,\n",
       "  'box_points': [172, 521, 442, 684]},\n",
       " {'name': 'Shower Caddy',\n",
       "  'percentage_probability': 65.65004587173462,\n",
       "  'box_points': [72, 7, 533, 469]},\n",
       " {'name': 'Skull Cookie',\n",
       "  'percentage_probability': 65.26416540145874,\n",
       "  'box_points': [166, 518, 414, 689]},\n",
       " {'name': 'Hand Towel',\n",
       "  'percentage_probability': 64.41031098365784,\n",
       "  'box_points': [38, 104, 563, 441]},\n",
       " {'name': 'Void',\n",
       "  'percentage_probability': 64.28475975990295,\n",
       "  'box_points': [172, 521, 442, 684]},\n",
       " {'name': 'Golden Saba',\n",
       "  'percentage_probability': 64.13036584854126,\n",
       "  'box_points': [38, 104, 563, 441]},\n",
       " {'name': 'Pet Food',\n",
       "  'percentage_probability': 63.707566261291504,\n",
       "  'box_points': [336, 59, 578, 214]},\n",
       " {'name': 'Stand Pcase',\n",
       "  'percentage_probability': 62.4816358089447,\n",
       "  'box_points': [332, 64, 612, 207]},\n",
       " {'name': 'Yellowtail Fish',\n",
       "  'percentage_probability': 62.102049589157104,\n",
       "  'box_points': [332, 64, 612, 207]},\n",
       " {'name': 'Cat Pan',\n",
       "  'percentage_probability': 61.47231459617615,\n",
       "  'box_points': [38, 104, 563, 441]},\n",
       " {'name': 'Yellowtail Fish',\n",
       "  'percentage_probability': 60.52630543708801,\n",
       "  'box_points': [172, 521, 442, 684]},\n",
       " {'name': 'Beef Tor Round Thin Sliced',\n",
       "  'percentage_probability': 59.86778736114502,\n",
       "  'box_points': [72, 7, 533, 469]},\n",
       " {'name': 'Gg Cheese',\n",
       "  'percentage_probability': 58.348965644836426,\n",
       "  'box_points': [172, 521, 442, 684]},\n",
       " {'name': 'Curtain Pnls',\n",
       "  'percentage_probability': 58.264464139938354,\n",
       "  'box_points': [172, 521, 442, 684]},\n",
       " {'name': 'Cat Pan',\n",
       "  'percentage_probability': 58.211749792099,\n",
       "  'box_points': [191, 4, 556, 48]},\n",
       " {'name': 'Horizon',\n",
       "  'percentage_probability': 58.03071856498718,\n",
       "  'box_points': [332, 64, 612, 207]},\n",
       " {'name': 'Foco nectar soursop',\n",
       "  'percentage_probability': 57.66935348510742,\n",
       "  'box_points': [72, 7, 533, 469]},\n",
       " {'name': 'Pet Food',\n",
       "  'percentage_probability': 56.7141056060791,\n",
       "  'box_points': [38, 104, 563, 441]},\n",
       " {'name': 'Simply',\n",
       "  'percentage_probability': 56.25225901603699,\n",
       "  'box_points': [18, 0, 639, 568]},\n",
       " {'name': 'Buk Pandan',\n",
       "  'percentage_probability': 56.22936487197876,\n",
       "  'box_points': [123, 0, 595, 47]},\n",
       " {'name': 'Sngl Shwr Hd',\n",
       "  'percentage_probability': 55.52273988723755,\n",
       "  'box_points': [38, 104, 563, 441]},\n",
       " {'name': 'Hasbro Starw action Figures',\n",
       "  'percentage_probability': 55.49265146255493,\n",
       "  'box_points': [38, 104, 563, 441]},\n",
       " {'name': 'Location',\n",
       "  'percentage_probability': 55.217862129211426,\n",
       "  'box_points': [110, 0, 599, 63]},\n",
       " {'name': 'Pet Food',\n",
       "  'percentage_probability': 54.851508140563965,\n",
       "  'box_points': [123, 0, 595, 47]},\n",
       " {'name': 'Hasbro Starw action Figures',\n",
       "  'percentage_probability': 54.371607303619385,\n",
       "  'box_points': [191, 4, 556, 48]},\n",
       " {'name': 'Hand Towel',\n",
       "  'percentage_probability': 52.94528603553772,\n",
       "  'box_points': [191, 4, 556, 48]},\n",
       " {'name': 'Hasbro Starw action Figures',\n",
       "  'percentage_probability': 52.57248282432556,\n",
       "  'box_points': [166, 518, 414, 689]},\n",
       " {'name': 'Shower Caddy',\n",
       "  'percentage_probability': 51.79814100265503,\n",
       "  'box_points': [336, 59, 578, 214]},\n",
       " {'name': 'Fish Sauce',\n",
       "  'percentage_probability': 51.33318901062012,\n",
       "  'box_points': [332, 64, 612, 207]},\n",
       " {'name': 'Ramune Drink',\n",
       "  'percentage_probability': 51.33039951324463,\n",
       "  'box_points': [18, 0, 639, 568]},\n",
       " {'name': 'Angel Soft',\n",
       "  'percentage_probability': 50.78064799308777,\n",
       "  'box_points': [38, 104, 563, 441]},\n",
       " {'name': 'Curtain Pnls',\n",
       "  'percentage_probability': 50.609153509140015,\n",
       "  'box_points': [38, 104, 563, 441]}]"
      ]
     },
     "execution_count": 5,
     "metadata": {},
     "output_type": "execute_result"
    }
   ],
   "source": [
    "detections=sorted(detections,key=lambda v: v['percentage_probability'],reverse=True)\n",
    "detections"
   ]
  },
  {
   "cell_type": "markdown",
   "metadata": {},
   "source": [
    "# Extracting Top N Detected objects"
   ]
  },
  {
   "cell_type": "code",
   "execution_count": 6,
   "metadata": {
    "scrolled": true
   },
   "outputs": [
    {
     "name": "stdout",
     "output_type": "stream",
     "text": [
      "[{'name': 'Time', 'percentage_probability': 99.56734776496887, 'box_points': [123, 0, 595, 47]}, {'name': 'Label', 'percentage_probability': 99.48127865791321, 'box_points': [166, 518, 414, 689]}, {'name': 'Location', 'percentage_probability': 98.84781241416931, 'box_points': [332, 64, 612, 207]}, {'name': 'Chune Fried rice', 'percentage_probability': 98.40279817581177, 'box_points': [38, 104, 563, 441]}, {'name': 'Pork Skin', 'percentage_probability': 96.31786942481995, 'box_points': [38, 104, 563, 441]}] ['Time', 'Label', 'Location', 'Chune Fried rice', 'Pork Skin']\n"
     ]
    }
   ],
   "source": [
    "name_lst=[]\n",
    "top_n=[]\n",
    "\n",
    "limit=5  #change the value to vary number of top N objects\n",
    "\n",
    "for obj in detections:\n",
    "    if obj['name'] not in name_lst:\n",
    "        top_n.append(obj)\n",
    "        name_lst.append(obj['name'])\n",
    "        \n",
    "print(top_n[0:limit],name_lst[0:limit])"
   ]
  },
  {
   "cell_type": "markdown",
   "metadata": {},
   "source": [
    "# Performing OCR and Generating Message to Email"
   ]
  },
  {
   "cell_type": "code",
   "execution_count": 53,
   "metadata": {},
   "outputs": [
    {
     "name": "stdout",
     "output_type": "stream",
     "text": [
      "Item Count :  2\n"
     ]
    }
   ],
   "source": [
    "label=extractObjectText(top_n,name_lst,filename,'Label')\n",
    "location=extractObjectText(top_n,name_lst,filename,'Location')\n",
    "time=extractObjectText(top_n,name_lst,filename,'Time')\n",
    "\n",
    "#print(\"Label \",label)\n",
    "#print(\"Location \",location)\n",
    "#print(\"Time \",time)\n",
    "\n",
    "cv.waitKey(0)\n",
    "cv.destroyAllWindows()\n",
    "\n",
    "if(str(location)!='None'):\n",
    "    location_str = ' '.join(location.split('\\n'))\n",
    "else:\n",
    "    location_str='Southeast America'\n",
    "\n",
    "if(time!=''):\n",
    "    time = re.search(r'\\d{1}:\\d{2}:\\d{2}', time)\n",
    "    if(str(time)=='None'):\n",
    "        time = re.search(r'\\d{1}:\\d{1,2}', time)\n",
    "        if(str(time)=='None'):\n",
    "            time = '00:00:00'\n",
    "        else:\n",
    "            time = time.group()\n",
    "    else:\n",
    "        time = time.group()\n",
    "else:\n",
    "    time='00:00:00'\n",
    "\n",
    "if(label!=''):\n",
    "    price = re.search(r'(\\d{1,})([. ])(\\d{1,})', label)\n",
    "    \n",
    "    if(str(price)!='None'):\n",
    "        price = price.group()\n",
    "    else:\n",
    "        price='0'\n",
    "\n",
    "    label_str = ' '.join(label.split(price))\n",
    "else:\n",
    "    price='0'\n",
    "    label_str='x'\n",
    "\n",
    "message=\"\"\n",
    "\n",
    "if 'Void' in name_lst[0:limit]:\n",
    "    print('Shelf Has an Empty Area')\n",
    "        \n",
    "    message=\"Item name \"+label_str+\" of price \"+price+\"is missing from shelf Taken on \"+time+\" At \"+location_str\n",
    "    \n",
    "else:\n",
    "    item = name_lst[3]\n",
    "    \n",
    "    count=1\n",
    "    \n",
    "    for name in name_lst:\n",
    "        if(name==item):\n",
    "            count+=1\n",
    "    \n",
    "    print(\"Item Count : \",count)\n",
    "    \n",
    "    if(label_str!=item):\n",
    "        message=\"Item \"+item+\" does not match label \"+label_str\n",
    "    else:\n",
    "        message=\"Only \"+count+\" of item \"+item+\" are left\"\n",
    "        \n",
    "    \n",
    "sendMail(message.encode('UTF-8'))"
   ]
  }
 ],
 "metadata": {
  "kernelspec": {
   "display_name": "Python 3",
   "language": "python",
   "name": "python3"
  },
  "language_info": {
   "codemirror_mode": {
    "name": "ipython",
    "version": 3
   },
   "file_extension": ".py",
   "mimetype": "text/x-python",
   "name": "python",
   "nbconvert_exporter": "python",
   "pygments_lexer": "ipython3",
   "version": "3.7.4"
  }
 },
 "nbformat": 4,
 "nbformat_minor": 2
}
